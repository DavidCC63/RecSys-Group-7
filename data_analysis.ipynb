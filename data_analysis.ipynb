{
 "cells": [
  {
   "cell_type": "markdown",
   "id": "6bfe09e5",
   "metadata": {},
   "source": [
    "# Análisis de Datos"
   ]
  },
  {
   "cell_type": "code",
   "execution_count": 17,
   "id": "11aaeec3",
   "metadata": {},
   "outputs": [],
   "source": [
    "import pandas as pd\n",
    "import numpy as np"
   ]
  },
  {
   "cell_type": "code",
   "execution_count": 18,
   "id": "bddb5a3d",
   "metadata": {},
   "outputs": [],
   "source": [
    "# Load the data\n",
    "views = pd.read_csv(\"./src/datasets/diginetica/train-item-views.csv\", sep=\";\")\n",
    "categories = pd.read_csv(\"./src/datasets/diginetica/product-categories.csv\", sep=\";\")\n"
   ]
  },
  {
   "cell_type": "code",
   "execution_count": 19,
   "id": "c1c9402f",
   "metadata": {},
   "outputs": [
    {
     "name": "stdout",
     "output_type": "stream",
     "text": [
      "Views dataset:\n",
      "   sessionId  userId  itemId  timeframe   eventdate\n",
      "0          1     NaN   81766     526309  2016-05-09\n",
      "1          1     NaN   31331    1031018  2016-05-09\n",
      "2          1     NaN   32118     243569  2016-05-09\n",
      "3          1     NaN    9654      75848  2016-05-09\n",
      "4          1     NaN   32627    1112408  2016-05-09 \n",
      "\n",
      "Categories dataset:\n",
      "   itemId  categoryId\n",
      "0  139578        1096\n",
      "1  417975        1096\n",
      "2  291805        1096\n",
      "3  396921        1096\n",
      "4  159257        1096 \n",
      "\n"
     ]
    }
   ],
   "source": [
    "# --- Quick look ---\n",
    "print(\"Views dataset:\")\n",
    "print(views.head(), \"\\n\")\n",
    "print(\"Categories dataset:\")\n",
    "print(categories.head(), \"\\n\")\n"
   ]
  },
  {
   "cell_type": "code",
   "execution_count": 20,
   "id": "5007d3dc",
   "metadata": {},
   "outputs": [
    {
     "name": "stdout",
     "output_type": "stream",
     "text": [
      "Views info:\n",
      "<class 'pandas.core.frame.DataFrame'>\n",
      "RangeIndex: 1235380 entries, 0 to 1235379\n",
      "Data columns (total 5 columns):\n",
      " #   Column     Non-Null Count    Dtype  \n",
      "---  ------     --------------    -----  \n",
      " 0   sessionId  1235380 non-null  int64  \n",
      " 1   userId     372991 non-null   float64\n",
      " 2   itemId     1235380 non-null  int64  \n",
      " 3   timeframe  1235380 non-null  int64  \n",
      " 4   eventdate  1235380 non-null  object \n",
      "dtypes: float64(1), int64(3), object(1)\n",
      "memory usage: 47.1+ MB\n",
      "\n",
      "Categories info:\n",
      "<class 'pandas.core.frame.DataFrame'>\n",
      "RangeIndex: 184047 entries, 0 to 184046\n",
      "Data columns (total 2 columns):\n",
      " #   Column      Non-Null Count   Dtype\n",
      "---  ------      --------------   -----\n",
      " 0   itemId      184047 non-null  int64\n",
      " 1   categoryId  184047 non-null  int64\n",
      "dtypes: int64(2)\n",
      "memory usage: 2.8 MB\n"
     ]
    }
   ],
   "source": [
    "# --- Basic info ---\n",
    "print(\"Views info:\")\n",
    "views.info()\n",
    "print(\"\\nCategories info:\")\n",
    "categories.info()"
   ]
  },
  {
   "cell_type": "code",
   "execution_count": 21,
   "id": "f7b30416",
   "metadata": {},
   "outputs": [
    {
     "name": "stdout",
     "output_type": "stream",
     "text": [
      "\n",
      "Views describe:\n"
     ]
    },
    {
     "name": "stdout",
     "output_type": "stream",
     "text": [
      "           sessionId         userId        itemId     timeframe   eventdate\n",
      "count   1.235380e+06  372991.000000  1.235380e+06  1.235380e+06     1235380\n",
      "unique           NaN            NaN           NaN           NaN         152\n",
      "top              NaN            NaN           NaN           NaN  2016-05-30\n",
      "freq             NaN            NaN           NaN           NaN       17320\n",
      "mean    2.392015e+05   86963.792668  8.569671e+04  3.465888e+05         NaN\n",
      "std     1.608633e+05   65592.218564  1.064063e+05  3.175156e+05         NaN\n",
      "min     1.000000e+00       2.000000  1.000000e+00  1.200000e+01         NaN\n",
      "25%     1.015720e+05   30832.000000  1.397800e+04  8.172950e+04         NaN\n",
      "50%     2.124630e+05   71553.000000  4.189400e+04  2.417915e+05         NaN\n",
      "75%     3.603910e+05  132402.000000  1.122100e+05  5.398880e+05         NaN\n",
      "max     6.006870e+05  249347.000000  7.338480e+05  1.199992e+06         NaN\n",
      "\n",
      "Categories describe:\n",
      "              itemId     categoryId\n",
      "count  184047.000000  184047.000000\n",
      "mean   212739.605508     632.183236\n",
      "std    163700.623799     366.614572\n",
      "min         1.000000       2.000000\n",
      "25%     70938.500000     331.000000\n",
      "50%    173337.000000     634.000000\n",
      "75%    367083.000000     926.000000\n",
      "max    736383.000000    1297.000000\n"
     ]
    }
   ],
   "source": [
    "# --- Descriptive statistics ---\n",
    "print(\"\\nViews describe:\")\n",
    "print(views.describe(include=\"all\"))\n",
    "\n",
    "print(\"\\nCategories describe:\")\n",
    "print(categories.describe(include=\"all\"))"
   ]
  },
  {
   "cell_type": "code",
   "execution_count": 22,
   "id": "25bb3653",
   "metadata": {},
   "outputs": [
    {
     "name": "stdout",
     "output_type": "stream",
     "text": [
      "\n",
      "# Sessions: 310324\n",
      "# Items: 122993\n",
      "# Users: 87934 (many will be NA/anonymized)\n",
      "Avg. session length: 3.98\n"
     ]
    }
   ],
   "source": [
    "# --- Unique counts ---\n",
    "n_sessions = views[\"sessionId\"].nunique()\n",
    "n_items = views[\"itemId\"].nunique()\n",
    "n_users = views[\"userId\"].nunique()\n",
    "avg_session_len = views.groupby(\"sessionId\")[\"itemId\"].count().mean()\n",
    "print(f\"\\n# Sessions: {n_sessions}\")\n",
    "print(f\"# Items: {n_items}\")\n",
    "print(f\"# Users: {n_users} (many will be NA/anonymized)\")\n",
    "print(f\"Avg. session length: {avg_session_len:.2f}\")"
   ]
  },
  {
   "cell_type": "code",
   "execution_count": 23,
   "id": "cdfc5033",
   "metadata": {},
   "outputs": [
    {
     "name": "stdout",
     "output_type": "stream",
     "text": [
      "\n",
      "Event date range:\n",
      "2016-01-01 → 2016-06-01\n"
     ]
    }
   ],
   "source": [
    "# --- Event date range ---\n",
    "print(\"\\nEvent date range:\")\n",
    "print(views[\"eventdate\"].min(), \"→\", views[\"eventdate\"].max())"
   ]
  },
  {
   "cell_type": "code",
   "execution_count": 24,
   "id": "98e1240d",
   "metadata": {},
   "outputs": [
    {
     "name": "stdout",
     "output_type": "stream",
     "text": [
      "\n",
      "# Categories: 1217\n",
      "# Items with category info: 184047 (149.64% of total items)\n"
     ]
    }
   ],
   "source": [
    "# --- Categories ---\n",
    "n_categories = categories[\"categoryId\"].nunique()\n",
    "items_with_category = categories[\"itemId\"].nunique()\n",
    "\n",
    "print(f\"\\n# Categories: {n_categories}\")\n",
    "print(f\"# Items with category info: {items_with_category} \"\n",
    "      f\"({items_with_category / n_items:.2%} of total items)\")"
   ]
  },
  {
   "cell_type": "code",
   "execution_count": 25,
   "id": "57f9d934",
   "metadata": {},
   "outputs": [
    {
     "name": "stdout",
     "output_type": "stream",
     "text": [
      "\n",
      "Top 10 categories by item count:\n",
      "categoryId\n",
      "807    3851\n",
      "842    3627\n",
      "368    2363\n",
      "634    2245\n",
      "822    2121\n",
      "371    2093\n",
      "88     1706\n",
      "684    1670\n",
      "47     1649\n",
      "402    1379\n",
      "Name: count, dtype: int64\n"
     ]
    }
   ],
   "source": [
    "# --- Most frequent categories ---\n",
    "print(\"\\nTop 10 categories by item count:\")\n",
    "print(categories[\"categoryId\"].value_counts().head(10))\n"
   ]
  },
  {
   "cell_type": "code",
   "execution_count": null,
   "id": "5ebb6217",
   "metadata": {},
   "outputs": [],
   "source": []
  }
 ],
 "metadata": {
  "kernelspec": {
   "display_name": ".venv",
   "language": "python",
   "name": "python3"
  },
  "language_info": {
   "codemirror_mode": {
    "name": "ipython",
    "version": 3
   },
   "file_extension": ".py",
   "mimetype": "text/x-python",
   "name": "python",
   "nbconvert_exporter": "python",
   "pygments_lexer": "ipython3",
   "version": "3.12.3"
  }
 },
 "nbformat": 4,
 "nbformat_minor": 5
}
